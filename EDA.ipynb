{
 "cells": [
  {
   "cell_type": "code",
   "execution_count": null,
   "id": "68ead4e4-c743-40db-999d-f02853179032",
   "metadata": {},
   "outputs": [],
   "source": [
    "import pandas as pd\n",
    "import numpy as np\n",
    "import matplotlib.pyplot as plt\n",
    "import seaborn as sns\n",
    "import csv"
   ]
  },
  {
   "cell_type": "code",
   "execution_count": null,
   "id": "5b54e296-226d-47f6-a6db-71023264c003",
   "metadata": {},
   "outputs": [],
   "source": [
    "df = pd.read_csv('data.csv',sep=',',encoding=\"ISO-8859-1\")"
   ]
  },
  {
   "cell_type": "code",
   "execution_count": null,
   "id": "eae3bfd2-2d18-48f0-a7b0-fde94fafc7fc",
   "metadata": {},
   "outputs": [],
   "source": [
    "#2. Proses Filtering/Preprocessing\n",
    "import numpy as np\n",
    "import pandas as pd\n",
    "import re\n",
    "import string\n",
    "import nltk"
   ]
  },
  {
   "cell_type": "code",
   "execution_count": null,
   "id": "a26ac167-cefe-43b4-aeed-1c69c9543087",
   "metadata": {},
   "outputs": [],
   "source": []
  },
  {
   "cell_type": "code",
   "execution_count": null,
   "id": "1ebb267e-2256-4fe1-b779-26f32737f7e4",
   "metadata": {},
   "outputs": [],
   "source": []
  },
  {
   "cell_type": "code",
   "execution_count": null,
   "id": "9ff21597-034b-41fb-9dbe-e29d1c493b63",
   "metadata": {},
   "outputs": [],
   "source": [
    "# cleaning\n",
    "def cleaning(str):\n",
    " #remove RT\n",
    " str = re.sub ('RT', '', str)\n",
    " #remove @username\n",
    " str = re.sub('@[^\\s]+', '', str)\n",
    " str = re.sub('@', '', str)\n",
    " #remove user\n",
    " str = re.sub ('USER', '', str)\n",
    " #remove hashtag\n",
    " str = re.sub('#[^\\s]+', '', str)\n",
    " str = re.sub('#', '', str)\n",
    " #remove URLs\n",
    " str = re.sub(r'https?://\\S+|www\\.\\S+', '', str)\n",
    " #remove URL word\n",
    " str = re.sub ('URL', '', str)\n",
    " #remove digit from string\n",
    " str = re.sub(\"\\S*\\d\\S*\", \"\", str).strip()\n",
    " #remove digit or numbers\n",
    " str = re.sub(r\"\\b\\d+\\b\", \" \", str)\n",
    " #Remove additional white spaces\n",
    " str = re.sub('\\s+', ' ', str)\n",
    " #to lowercase\n",
    " str = str.lower()\n",
    "    \n",
    " return str "
   ]
  },
  {
   "cell_type": "code",
   "execution_count": null,
   "id": "038dee68-1f48-4041-b722-09a58906b273",
   "metadata": {},
   "outputs": [],
   "source": [
    "df['text'] = df['Tweet'].apply(cleaning)"
   ]
  },
  {
   "cell_type": "code",
   "execution_count": null,
   "id": "cbadfe3f-df17-4ab6-a5f6-a973c00b741f",
   "metadata": {},
   "outputs": [],
   "source": [
    "df['text'].loc[288]"
   ]
  },
  {
   "cell_type": "code",
   "execution_count": null,
   "id": "aaf31416-796d-43ff-b5e8-bba00bc3f728",
   "metadata": {},
   "outputs": [],
   "source": [
    "df['text'].replace('', np.nan, inplace=True)"
   ]
  },
  {
   "cell_type": "code",
   "execution_count": null,
   "id": "ab0d6c76-e5e3-47d4-a629-a47a609880dd",
   "metadata": {},
   "outputs": [],
   "source": [
    "df['text'].isna().sum()"
   ]
  },
  {
   "cell_type": "code",
   "execution_count": null,
   "id": "f7eac93a-cb8c-439d-be96-5d0952312fab",
   "metadata": {},
   "outputs": [],
   "source": [
    "df.dropna(subset=['text'], inplace=True)"
   ]
  },
  {
   "cell_type": "code",
   "execution_count": null,
   "id": "665422da-7ba6-4485-8307-7cd229f7e8a6",
   "metadata": {},
   "outputs": [],
   "source": [
    "df['text'].isna().sum()"
   ]
  },
  {
   "cell_type": "code",
   "execution_count": null,
   "id": "0b2970a4-c9cb-4829-a74e-66aa5d25a8f1",
   "metadata": {},
   "outputs": [],
   "source": []
  },
  {
   "cell_type": "code",
   "execution_count": null,
   "id": "12faceb9-a369-4c0f-88d1-6cc336265847",
   "metadata": {},
   "outputs": [],
   "source": []
  },
  {
   "cell_type": "code",
   "execution_count": null,
   "id": "0be36d6a-3364-4276-a8c2-a45d4e3dc283",
   "metadata": {},
   "outputs": [],
   "source": [
    "#----------------Tokenizing----------------#\n",
    "import string\n",
    "import re\n",
    "from nltk.tokenize import word_tokenize\n",
    "x = df.iloc[0]\n",
    "print(nltk.word_tokenize(x['text']))\n",
    "def identify_tokens(row):\n",
    " message = row['text']\n",
    " tokens = nltk.word_tokenize(message)\n",
    " token_words = [w for w in tokens if w.isalpha()]\n",
    " return token_words"
   ]
  },
  {
   "cell_type": "code",
   "execution_count": null,
   "id": "efc237f0-eb17-47f3-aed3-e21dbb2e5f3f",
   "metadata": {},
   "outputs": [],
   "source": [
    "df['text'] = df.apply(identify_tokens, axis = 1)\n",
    "df.text"
   ]
  },
  {
   "cell_type": "code",
   "execution_count": null,
   "id": "cc4e9b44-25cc-43eb-bc40-4ebd90c16d8d",
   "metadata": {},
   "outputs": [],
   "source": []
  },
  {
   "cell_type": "code",
   "execution_count": null,
   "id": "e3d063c0-69df-457c-912f-5503908c5a00",
   "metadata": {},
   "outputs": [],
   "source": []
  },
  {
   "cell_type": "code",
   "execution_count": null,
   "id": "0e3a7c59-622a-4c08-8915-c7f2320c1b92",
   "metadata": {},
   "outputs": [],
   "source": [
    "#--------------Filtering-------------#\n",
    "#stopword\n",
    "from nltk.corpus import stopwords\n",
    "stops = set(stopwords.words('indonesian'))\n",
    "def remove_stops(row):\n",
    " message = row['text']\n",
    " stopwords = [w for w in message if not w in stops]\n",
    " return stopwords"
   ]
  },
  {
   "cell_type": "code",
   "execution_count": null,
   "id": "14df693b-22cf-48e6-aeea-967107468d2f",
   "metadata": {},
   "outputs": [],
   "source": [
    "df['text'] = df.apply(remove_stops, axis = 1)\n",
    "df['text'] = df['text'].str.join(\" \")\n",
    "df.text"
   ]
  },
  {
   "cell_type": "code",
   "execution_count": null,
   "id": "f7826628-392f-440b-a7e9-b0535194b8dd",
   "metadata": {},
   "outputs": [],
   "source": []
  },
  {
   "cell_type": "code",
   "execution_count": null,
   "id": "f7c9dfce-297d-4959-a8f8-1d2aa413c092",
   "metadata": {},
   "outputs": [],
   "source": []
  },
  {
   "cell_type": "code",
   "execution_count": null,
   "id": "4ebf0c11-7ec1-49eb-b4e6-fd429ad86ab1",
   "metadata": {},
   "outputs": [],
   "source": [
    "##singkatan ##normalisasi"
   ]
  },
  {
   "cell_type": "code",
   "execution_count": null,
   "id": "8d9c5364-de5a-43f6-b953-2c6a63e5d663",
   "metadata": {},
   "outputs": [],
   "source": [
    "##\n",
    "abbreviations = dict()\n",
    "with open('new_kamusalay.csv', 'r') as f:\n",
    "    reader = csv.reader(f)\n",
    "    for row in reader:\n",
    "        abbreviation = row[0].strip()\n",
    "        expansion = row[1].strip()\n",
    "        abbreviations[abbreviation] = expansion"
   ]
  },
  {
   "cell_type": "code",
   "execution_count": null,
   "id": "3818c168-f007-4dec-8292-d206a3b78081",
   "metadata": {
    "scrolled": true
   },
   "outputs": [],
   "source": [
    "##\n",
    "abbreviations"
   ]
  },
  {
   "cell_type": "code",
   "execution_count": null,
   "id": "05426edd-9d0f-4aa6-bf30-e383206793c3",
   "metadata": {},
   "outputs": [],
   "source": [
    "##\n",
    "def replace_abbreviations(text, abbreviations):\n",
    "    words = text.split()\n",
    "    for i, word in enumerate(words):\n",
    "        if word in abbreviations:\n",
    "            words[i] = abbreviations[word]\n",
    "    return ' '.join(words)"
   ]
  },
  {
   "cell_type": "code",
   "execution_count": null,
   "id": "63d3cf0b-ce25-491d-8e59-67708bf0f477",
   "metadata": {},
   "outputs": [],
   "source": [
    "##\n",
    "df['abbreviations'] = df['text'].apply(lambda text: replace_abbreviations(text, abbreviations))"
   ]
  },
  {
   "cell_type": "code",
   "execution_count": null,
   "id": "3f77e303-7985-4861-8149-c1d6efc604ed",
   "metadata": {},
   "outputs": [],
   "source": [
    "df['abbreviations']"
   ]
  },
  {
   "cell_type": "code",
   "execution_count": null,
   "id": "35d5f032-ed2b-46c3-b4f7-f64aea9d6b22",
   "metadata": {},
   "outputs": [],
   "source": []
  },
  {
   "cell_type": "code",
   "execution_count": null,
   "id": "79c21aec-c389-46e4-aa12-62e955098fb0",
   "metadata": {},
   "outputs": [],
   "source": []
  },
  {
   "cell_type": "code",
   "execution_count": null,
   "id": "e507284f-7d3f-4e21-865e-e51ebd6aa2ba",
   "metadata": {},
   "outputs": [],
   "source": [
    "##stemming sastrawi"
   ]
  },
  {
   "cell_type": "code",
   "execution_count": null,
   "id": "c41e86b7-ed8d-4516-9313-9afa9649c252",
   "metadata": {},
   "outputs": [],
   "source": [
    "from Sastrawi.Stemmer.StemmerFactory import StemmerFactory\n",
    "\n",
    "factory = StemmerFactory()\n",
    "stemmer = factory.create_stemmer()"
   ]
  },
  {
   "cell_type": "code",
   "execution_count": null,
   "id": "01a8dc5e-8e82-4161-ba4a-9325a519b8de",
   "metadata": {},
   "outputs": [],
   "source": [
    "# Fungsi untuk melakukan stemming pada teks\n",
    "def stem_text(text):\n",
    "    return stemmer.stem(text)"
   ]
  },
  {
   "cell_type": "code",
   "execution_count": null,
   "id": "343dd262-d733-4d71-ab84-156491b22d60",
   "metadata": {},
   "outputs": [],
   "source": [
    "# Melakukan stemming pada kolom 'text' dalam DataFrame\n",
    "df['stemmed_text'] = df['abbreviations'].apply(stem_text)"
   ]
  },
  {
   "cell_type": "code",
   "execution_count": null,
   "id": "3ad9b88f-b865-4b17-982f-93aa6593289f",
   "metadata": {
    "scrolled": true
   },
   "outputs": [],
   "source": [
    "df['stemmed_text']"
   ]
  },
  {
   "cell_type": "code",
   "execution_count": null,
   "id": "461489a0-dff6-4d46-84da-57082dc3380c",
   "metadata": {},
   "outputs": [],
   "source": []
  },
  {
   "cell_type": "code",
   "execution_count": null,
   "id": "023dfa21-a938-4761-9cbb-1b128d6fdc3c",
   "metadata": {},
   "outputs": [],
   "source": []
  },
  {
   "cell_type": "code",
   "execution_count": null,
   "id": "ee2d73ec-dad8-44d2-a657-5771a1c66d42",
   "metadata": {},
   "outputs": [],
   "source": [
    "##sensor kata\n",
    "abusive_words = []\n",
    "import csv\n",
    "with open('abusive.csv', 'r', encoding='utf-8') as f:\n",
    "    reader = csv.reader(f)\n",
    "    for row in reader:\n",
    "        abusive_words.append(row[0].strip())"
   ]
  },
  {
   "cell_type": "code",
   "execution_count": null,
   "id": "9949d0b8-6762-4ee0-b3d2-c3dab252bae2",
   "metadata": {
    "scrolled": true
   },
   "outputs": [],
   "source": [
    "abusive_words"
   ]
  },
  {
   "cell_type": "code",
   "execution_count": null,
   "id": "16364520-a960-4728-963b-087e992e8a98",
   "metadata": {},
   "outputs": [],
   "source": [
    "def censor_text(text, abusive_words):\n",
    "    censored_text = text\n",
    "    for word in abusive_words:\n",
    "        censored_text = re.sub(r'\\b' + re.escape(word) + r'\\b', '*' * len(word), censored_text, flags=re.IGNORECASE)\n",
    "    return censored_text"
   ]
  },
  {
   "cell_type": "code",
   "execution_count": null,
   "id": "51879dbc-8840-49ea-93f0-3d1b55f0c2ad",
   "metadata": {},
   "outputs": [],
   "source": [
    "df['Censored_Text'] = df['stemmed_text'].apply(lambda x: censor_text(x, abusive_words))"
   ]
  },
  {
   "cell_type": "code",
   "execution_count": null,
   "id": "a1af4f60-39b0-44e3-a544-7764f394b465",
   "metadata": {},
   "outputs": [],
   "source": [
    "df['Censored_Text']"
   ]
  },
  {
   "cell_type": "code",
   "execution_count": null,
   "id": "4bf6aac3-1661-489f-afbe-e5895606f275",
   "metadata": {},
   "outputs": [],
   "source": []
  },
  {
   "cell_type": "code",
   "execution_count": null,
   "id": "4ba78a0b-d461-46ff-baf7-3fe485c4ee2e",
   "metadata": {},
   "outputs": [],
   "source": [
    "#\n",
    "def hatesp(hs):\n",
    "    kategori = \"\"\n",
    "    if int(hs) == 1:\n",
    "        hatesp = 'hate speech'\n",
    "    else:\n",
    "        hatesp = 'non-hate speech'\n",
    "    return hatesp"
   ]
  },
  {
   "cell_type": "code",
   "execution_count": null,
   "id": "07363d71-8bd5-4d05-9682-3f2f947fb346",
   "metadata": {
    "scrolled": true
   },
   "outputs": [],
   "source": [
    "df['kategori_hs'] = df['HS'].apply(hatesp)\n",
    "df[['stemmed_text', 'kategori_hs']].sample(10)"
   ]
  },
  {
   "cell_type": "code",
   "execution_count": null,
   "id": "5bf266d7-a8b9-4f86-a083-8fa3239e55c8",
   "metadata": {},
   "outputs": [],
   "source": []
  },
  {
   "cell_type": "code",
   "execution_count": null,
   "id": "630fdff8-5989-4cb1-89dc-f6ed7ff88094",
   "metadata": {},
   "outputs": [],
   "source": []
  },
  {
   "cell_type": "markdown",
   "id": "d6b2de52-334f-4cb8-937e-b06dab5a42c4",
   "metadata": {},
   "source": [
    "ANALISIS"
   ]
  },
  {
   "cell_type": "code",
   "execution_count": null,
   "id": "887a9de2-af1e-4161-959b-7f32fda286dc",
   "metadata": {},
   "outputs": [],
   "source": [
    "#Comparasion Hate Speech on Tweets Data\n",
    "fig, ax = plt.subplots(figsize = (3,8))\n",
    "sizes = [count for count in df['kategori_hs'].value_counts()]\n",
    "labels = list(df['kategori_hs'].value_counts().index)\n",
    "ax.pie(x = sizes, labels = labels, autopct = '%1.1f%%', textprops={'fontsize': 14})\n",
    "ax.set_title('Category Hate Speech', fontsize = 16, pad = 20)\n",
    "plt.show()"
   ]
  },
  {
   "cell_type": "code",
   "execution_count": null,
   "id": "934ea600-7b60-4e2e-9064-ead984ec35a3",
   "metadata": {},
   "outputs": [],
   "source": [
    "df['kategori_hs'].value_counts()"
   ]
  },
  {
   "cell_type": "code",
   "execution_count": null,
   "id": "95d18838-1f83-458d-bb9b-4814a699ea30",
   "metadata": {},
   "outputs": [],
   "source": [
    "plt.figure(figsize=(4,4))\n",
    "sns.countplot(x='kategori_hs',data=df)\n",
    "plt.title('Category Hate Speech')"
   ]
  },
  {
   "cell_type": "code",
   "execution_count": null,
   "id": "af6d5c92-ba23-4306-82c4-c839f3d8198a",
   "metadata": {},
   "outputs": [],
   "source": [
    "#histogram of tweet lengths\n",
    "df['tweet_length'] = df['stemmed_text'].apply(len)\n",
    "plt.figure(figsize=(3,3))\n",
    "sns.histplot(df['tweet_length'], bins=50)\n",
    "plt.xlabel('All Tweets')\n",
    "plt.ylabel('Frequency')\n",
    "plt.title('Distribution of Tweet Character Length')\n",
    "plt.show()"
   ]
  },
  {
   "cell_type": "code",
   "execution_count": null,
   "id": "b2a8a7c8-5cfe-43b1-9479-dac2197e48e7",
   "metadata": {},
   "outputs": [],
   "source": [
    "#Distribution of Tweet Lengths #All tweets\n",
    "df['word_length'] = df['stemmed_text'].apply(lambda sent : len(sent.split()))\n",
    "plt.figure(figsize=(3,3))\n",
    "sns.histplot(df['word_length'], bins=50)\n",
    "plt.xlabel('All Tweets')\n",
    "plt.ylabel('Frequency')\n",
    "plt.title('Distribution of Tweet Word Length')\n",
    "plt.show()"
   ]
  },
  {
   "cell_type": "code",
   "execution_count": null,
   "id": "8ee637bd-f051-4920-a6e9-6d092023a5ee",
   "metadata": {},
   "outputs": [],
   "source": []
  },
  {
   "cell_type": "code",
   "execution_count": null,
   "id": "5beb00eb-c4f2-4bb1-92f5-95073cbee388",
   "metadata": {},
   "outputs": [],
   "source": [
    "hs_length = df['stemmed_text'][df['kategori_hs']=='hate speech']\n",
    "hsnon_length = df['stemmed_text'][df['kategori_hs']=='non-hate speech']"
   ]
  },
  {
   "cell_type": "code",
   "execution_count": null,
   "id": "4d042e15-c526-428c-9bfc-79f2b5992edf",
   "metadata": {},
   "outputs": [],
   "source": [
    "#Distribution of Tweet Character Lengths #Hate Speech\n",
    "df['tweet_length_hs'] = hs_length.apply(len)\n",
    "plt.figure(figsize=(3,3))\n",
    "sns.histplot(df['tweet_length_hs'], bins=50)\n",
    "plt.xlabel('Hate Speech Tweets')\n",
    "plt.ylabel('Frequency')\n",
    "plt.title('Distribution of Tweet Character Length')\n",
    "plt.show()"
   ]
  },
  {
   "cell_type": "code",
   "execution_count": null,
   "id": "f5e8168a-d96b-4de8-9772-41079826893e",
   "metadata": {},
   "outputs": [],
   "source": [
    "#Distribution of Tweet Lengths #Hate Speech\n",
    "df['word_length_hs'] = hs_length.apply(lambda sent : len(sent.split()))\n",
    "plt.figure(figsize=(3,3))\n",
    "sns.histplot(df['word_length_hs'], bins=50)\n",
    "plt.xlabel('Hate Speech Tweets')\n",
    "plt.ylabel('Frequency')\n",
    "plt.title('Distribution of Tweet Word Length')\n",
    "plt.show()"
   ]
  },
  {
   "cell_type": "code",
   "execution_count": null,
   "id": "599eca25-fecc-432b-b7de-345ccfb63b02",
   "metadata": {},
   "outputs": [],
   "source": []
  },
  {
   "cell_type": "code",
   "execution_count": null,
   "id": "95b60429-b17b-4c6a-9948-a6c2f673d3dd",
   "metadata": {},
   "outputs": [],
   "source": [
    "#Distribution of Tweet Lengths #Non Hate Speech\n",
    "df['tweet_length_nhs'] = hsnon_length.apply(len)\n",
    "plt.figure(figsize=(3,3))\n",
    "sns.histplot(df['tweet_length_nhs'], bins=50)\n",
    "plt.xlabel('Non Hate Speech Tweets')\n",
    "plt.ylabel('Frequency')\n",
    "plt.title('Distribution of Tweet Character Length')\n",
    "plt.show()"
   ]
  },
  {
   "cell_type": "code",
   "execution_count": null,
   "id": "b753faa7-21e7-47c2-949d-0c01af6f87c3",
   "metadata": {},
   "outputs": [],
   "source": [
    "#Distribution of Tweet Lengths #Non Hate Speech\n",
    "df['word_length_nhs'] = hsnon_length.apply(lambda sent : len(sent.split()))\n",
    "plt.figure(figsize=(3,3))\n",
    "sns.histplot(df['word_length_nhs'], bins=50)\n",
    "plt.xlabel('Non Hate Speech Tweets')\n",
    "plt.ylabel('Frequency')\n",
    "plt.title('Distribution of Tweet Word Length')\n",
    "plt.show()"
   ]
  },
  {
   "cell_type": "code",
   "execution_count": null,
   "id": "639f80c1-6121-4f79-9148-2bf18a5152c6",
   "metadata": {},
   "outputs": [],
   "source": []
  },
  {
   "cell_type": "code",
   "execution_count": null,
   "id": "8ef35c70-f71a-4c70-983e-43255bed1b59",
   "metadata": {},
   "outputs": [],
   "source": [
    "#korelasi panjang kata dan karakter pada suatu tweet"
   ]
  },
  {
   "cell_type": "code",
   "execution_count": null,
   "id": "e0e1495b-9469-4a1c-982b-a8d5e80c015f",
   "metadata": {},
   "outputs": [],
   "source": [
    "plt.figure(figsize=(3,3))\n",
    "sns.histplot(x = df['word_length'], y = df['tweet_length'], bins=50)\n",
    "plt.xlabel('Total Word (All Tweets)')\n",
    "plt.ylabel('Total Character')\n",
    "plt.title('Correlation Total Word & Total Character')\n",
    "plt.show()"
   ]
  },
  {
   "cell_type": "code",
   "execution_count": null,
   "id": "cbe18b58-a92f-46a5-adb2-5cdb29c6c15b",
   "metadata": {},
   "outputs": [],
   "source": [
    "plt.figure(figsize=(3,3))\n",
    "sns.histplot(x = df['word_length_hs'], y = df['tweet_length_hs'], bins=50)\n",
    "plt.xlabel('Total Word (Hate Speech)')\n",
    "plt.ylabel('Total Character')\n",
    "plt.title('Correlation Total Word & Total Character')\n",
    "plt.show()"
   ]
  },
  {
   "cell_type": "code",
   "execution_count": null,
   "id": "7ede5b06-e0e1-4504-a144-3a28c4fba65b",
   "metadata": {},
   "outputs": [],
   "source": [
    "plt.figure(figsize=(3,3))\n",
    "sns.histplot(x = df['word_length_nhs'], y = df['tweet_length_nhs'], bins=50)\n",
    "plt.xlabel('Total Word (Non Hate Speech)')\n",
    "plt.ylabel('Total Character')\n",
    "plt.title('Correlation Total Word & Total Character')\n",
    "plt.show()"
   ]
  },
  {
   "cell_type": "code",
   "execution_count": null,
   "id": "ce53d2d1-15b8-42c2-8cb0-8950add40fb0",
   "metadata": {},
   "outputs": [],
   "source": []
  },
  {
   "cell_type": "code",
   "execution_count": null,
   "id": "a261e886-4762-4d5d-af6f-a6d7f977d555",
   "metadata": {},
   "outputs": [],
   "source": []
  },
  {
   "cell_type": "code",
   "execution_count": null,
   "id": "066e0f43-d483-4ff5-b090-299a56f52d33",
   "metadata": {},
   "outputs": [],
   "source": [
    "#wordcloud masih mengandung kata yang tidak penting\n",
    "from wordcloud import WordCloud\n",
    "text = ' '.join(df['stemmed_text'])\n",
    "wordcloud = WordCloud().generate(text)\n",
    "plt.imshow(wordcloud)\n",
    "plt.axis(\"off\")\n",
    "plt.show()"
   ]
  },
  {
   "cell_type": "code",
   "execution_count": null,
   "id": "ffe21e5a-0e5a-468f-90ba-eff78018662a",
   "metadata": {},
   "outputs": [],
   "source": []
  },
  {
   "cell_type": "code",
   "execution_count": null,
   "id": "5faa933c-b493-4c12-927c-01eb7c48dfc2",
   "metadata": {},
   "outputs": [],
   "source": [
    "#hapus kata abusive\n",
    "abusive_words = []\n",
    "import csv\n",
    "with open('abusive.csv', 'r', encoding='utf-8') as f:\n",
    "    reader = csv.reader(f)\n",
    "    for row in reader:\n",
    "        abusive_words.append(row[0].strip())"
   ]
  },
  {
   "cell_type": "code",
   "execution_count": null,
   "id": "6a55422e-ddff-4734-8b5f-bdcd1eaeed2a",
   "metadata": {},
   "outputs": [],
   "source": [
    "def remove_abusive_words(text, abusive_words):\n",
    "    # Gabungkan daftar kata abusive menjadi pola regex\n",
    "    pattern = r'\\b(?:' + '|'.join(re.escape(word) for word in abusive_words) + r')\\b'\n",
    "    # Hapus kata-kata abusive dari teks\n",
    "    cleaned_text = re.sub(pattern, '', text, flags=re.IGNORECASE)\n",
    "    return cleaned_text"
   ]
  },
  {
   "cell_type": "code",
   "execution_count": null,
   "id": "8694e5fd-a4ec-4ce8-bf6d-9e74dcffe82f",
   "metadata": {},
   "outputs": [],
   "source": [
    "df['perbaikan_kata'] = df['stemmed_text'].apply(lambda x: remove_abusive_words(x, abusive_words))"
   ]
  },
  {
   "cell_type": "code",
   "execution_count": null,
   "id": "bb928490-b53b-40fd-8dc2-277c42f9479b",
   "metadata": {},
   "outputs": [],
   "source": []
  },
  {
   "cell_type": "code",
   "execution_count": null,
   "id": "c5f2d06b-de3d-4a7e-94b0-67dcc698df7a",
   "metadata": {
    "scrolled": true
   },
   "outputs": [],
   "source": [
    "#menghapus stopword yang masih ada\n",
    "daftar_stopword = pd.read_csv('stopwordbahasa.csv', names = ['stopword'])\n",
    "daftar_stopword"
   ]
  },
  {
   "cell_type": "code",
   "execution_count": null,
   "id": "603f9d12-f1e5-4b29-8a69-2d041d8670c1",
   "metadata": {},
   "outputs": [],
   "source": [
    "text_baru = ' '.join(df['perbaikan_kata'])"
   ]
  },
  {
   "cell_type": "code",
   "execution_count": null,
   "id": "ed40ea37-dd20-43b7-b8a0-7e2c7167f3f8",
   "metadata": {},
   "outputs": [],
   "source": [
    "text_baru"
   ]
  },
  {
   "cell_type": "code",
   "execution_count": null,
   "id": "df5eee10-cee4-4a8f-a10d-fac90eb8ae60",
   "metadata": {},
   "outputs": [],
   "source": [
    "split_text = text_baru.split()\n",
    "filtered_array = [item for item in split_text if item not in daftar_stopword['stopword'].values]\n",
    "filtered_text = ' '.join(filtered_array)"
   ]
  },
  {
   "cell_type": "code",
   "execution_count": null,
   "id": "c6c6e4d4-e222-42fe-9249-a7af37c1a9f7",
   "metadata": {},
   "outputs": [],
   "source": [
    "filtered_text "
   ]
  },
  {
   "cell_type": "code",
   "execution_count": null,
   "id": "373ce6d9-41b4-48c3-826a-7026c7e95a46",
   "metadata": {},
   "outputs": [],
   "source": []
  },
  {
   "cell_type": "code",
   "execution_count": null,
   "id": "10463510-6510-4ecc-ace6-3946b4ef6734",
   "metadata": {},
   "outputs": [],
   "source": [
    "#wordcloud data keseluruhan\n",
    "from wordcloud import WordCloud\n",
    "wordcloud = WordCloud().generate(filtered_text)\n",
    "plt.imshow(wordcloud)\n",
    "plt.axis(\"off\")\n",
    "plt.show()"
   ]
  },
  {
   "cell_type": "code",
   "execution_count": null,
   "id": "c5024117-ae87-4c27-8153-d2fdf6bf5b0e",
   "metadata": {},
   "outputs": [],
   "source": []
  },
  {
   "cell_type": "code",
   "execution_count": null,
   "id": "b3a41aa3-4fef-494c-8e8a-f8a06c2ff139",
   "metadata": {},
   "outputs": [],
   "source": [
    "from collections import Counter\n",
    "# Menghitung frekuensi kemunculan kata dengan menggunakan Counter\n",
    "word_counts = Counter(filtered_text.split())\n",
    "# Menampilkan 10 kata yang paling banyak muncul beserta frekuensinya\n",
    "top_words = word_counts.most_common(10)\n",
    "top_words"
   ]
  },
  {
   "cell_type": "code",
   "execution_count": null,
   "id": "6f16f4b3-2a69-4502-bdb6-293ca6242bd9",
   "metadata": {},
   "outputs": [],
   "source": [
    "# Membuat dataframe dari top_words\n",
    "df_topwords = pd.DataFrame(top_words, columns=['word', 'count'])\n",
    "\n",
    "# Membuat bar plot dari dataframe dengan matplotlib\n",
    "plt.figure(figsize=(4,4))\n",
    "plt.barh(df_topwords['word'], df_topwords['count'], color='blue')\n",
    "plt.title('Top 10 Words')\n",
    "plt.xlabel('Word')\n",
    "plt.ylabel('Count')\n",
    "plt.show()"
   ]
  },
  {
   "cell_type": "code",
   "execution_count": null,
   "id": "10677d22-d9e1-4cd0-a936-77822547be82",
   "metadata": {},
   "outputs": [],
   "source": []
  },
  {
   "cell_type": "code",
   "execution_count": null,
   "id": "1b710680-d0c0-494b-90f7-596a0a6082a1",
   "metadata": {},
   "outputs": [],
   "source": [
    "hs_sp = df['perbaikan_kata'][df['kategori_hs']=='hate speech']\n",
    "hs_non = df['perbaikan_kata'][df['kategori_hs']=='non-hate speech']"
   ]
  },
  {
   "cell_type": "code",
   "execution_count": null,
   "id": "a66a6fb7-446e-46f0-9293-4bb68ae03887",
   "metadata": {},
   "outputs": [],
   "source": []
  },
  {
   "cell_type": "code",
   "execution_count": null,
   "id": "f32a7dcb-0b6c-48bb-b618-27bd7157fa0a",
   "metadata": {},
   "outputs": [],
   "source": [
    "text_hs = ' '.join(hs_sp)\n",
    "split_hs = text_hs.split()\n",
    "filtered_array_hs = [item for item in split_hs if item not in daftar_stopword['stopword'].values]\n",
    "filtered_text_hs = ' '.join(filtered_array_hs)"
   ]
  },
  {
   "cell_type": "code",
   "execution_count": null,
   "id": "9b61b8f3-0f1c-4db1-bf57-79a1a03a514d",
   "metadata": {},
   "outputs": [],
   "source": [
    "wordcloud_hs = WordCloud().generate(filtered_text_hs)\n",
    "plt.imshow(wordcloud_hs)\n",
    "plt.axis(\"off\")\n",
    "plt.show()"
   ]
  },
  {
   "cell_type": "code",
   "execution_count": null,
   "id": "6dbb7517-17e1-4e00-af0a-58daeff7566e",
   "metadata": {},
   "outputs": [],
   "source": [
    "from collections import Counter\n",
    "# Menghitung frekuensi kemunculan kata dengan menggunakan Counter\n",
    "word_counts_hs = Counter(filtered_text_hs.split())\n",
    "# Menampilkan 10 kata yang paling banyak muncul beserta frekuensinya\n",
    "top_words_hs = word_counts_hs.most_common(10)\n",
    "top_words_hs"
   ]
  },
  {
   "cell_type": "code",
   "execution_count": null,
   "id": "7732c201-a91f-4e7b-a3d8-758ed7ec9fb8",
   "metadata": {},
   "outputs": [],
   "source": [
    "# Membuat dataframe dari top_words\n",
    "df_topwords_hs = pd.DataFrame(top_words_hs, columns=['word', 'count'])\n",
    "\n",
    "# Membuat bar plot dari dataframe dengan matplotlib\n",
    "plt.figure(figsize=(4,4))\n",
    "plt.barh(df_topwords_hs['word'], df_topwords_hs['count'], color='blue')\n",
    "plt.title('Top 10 Words of Hate Speech')\n",
    "plt.xlabel('Word')\n",
    "plt.ylabel('Count')\n",
    "plt.show()"
   ]
  },
  {
   "cell_type": "code",
   "execution_count": null,
   "id": "cae0fe1a-073d-49f8-95ea-e436677e2f2b",
   "metadata": {},
   "outputs": [],
   "source": []
  },
  {
   "cell_type": "code",
   "execution_count": null,
   "id": "cab83a8b-e691-4f4e-944f-d4c444c33b86",
   "metadata": {},
   "outputs": [],
   "source": [
    "text_nhs = ' '.join(hs_non)\n",
    "split_nhs = text_nhs.split()\n",
    "filtered_array_nhs = [item for item in split_nhs if item not in daftar_stopword['stopword'].values]\n",
    "filtered_text_nhs = ' '.join(filtered_array_nhs)"
   ]
  },
  {
   "cell_type": "code",
   "execution_count": null,
   "id": "f68bbc41-3ece-4857-b194-a1771894d825",
   "metadata": {},
   "outputs": [],
   "source": [
    "wordcloud_nhs = WordCloud().generate(filtered_text_nhs)\n",
    "plt.imshow(wordcloud_nhs)\n",
    "plt.axis(\"off\")\n",
    "plt.show()"
   ]
  },
  {
   "cell_type": "code",
   "execution_count": null,
   "id": "c0839d68-02fb-47c9-a692-8d8393850ab5",
   "metadata": {},
   "outputs": [],
   "source": [
    "from collections import Counter\n",
    "# Menghitung frekuensi kemunculan kata dengan menggunakan Counter\n",
    "word_counts_nhs = Counter(filtered_text_nhs.split())\n",
    "# Menampilkan 10 kata yang paling banyak muncul beserta frekuensinya\n",
    "top_words_nhs = word_counts_nhs.most_common(10)\n",
    "top_words_nhs"
   ]
  },
  {
   "cell_type": "code",
   "execution_count": null,
   "id": "9bd7673f-1cee-4843-a507-98291c81b98e",
   "metadata": {
    "scrolled": true
   },
   "outputs": [],
   "source": [
    "# Membuat dataframe dari top_words\n",
    "df_topwords_nhs = pd.DataFrame(top_words_nhs, columns=['word', 'count'])\n",
    "\n",
    "# Membuat bar plot dari dataframe dengan matplotlib\n",
    "plt.figure(figsize=(4,4))\n",
    "plt.barh(df_topwords_nhs['word'], df_topwords_nhs['count'], color='blue')\n",
    "plt.title('Top 10 Words of Non-Hate Speech')\n",
    "plt.xlabel('Word')\n",
    "plt.ylabel('Count')\n",
    "plt.show()"
   ]
  },
  {
   "cell_type": "code",
   "execution_count": null,
   "id": "f0bce8d5-454d-4817-9837-82ab5e4aeb4b",
   "metadata": {},
   "outputs": [],
   "source": [
    "df['HS_Individual'].value_counts()"
   ]
  },
  {
   "cell_type": "code",
   "execution_count": null,
   "id": "3a14d6cb-15a0-477e-a270-cf51de8365f1",
   "metadata": {},
   "outputs": [],
   "source": [
    "macam_hs = df[['HS_Individual', 'HS_Group', 'HS_Religion', 'HS_Race', 'HS_Physical', 'HS_Gender', 'HS_Other']]"
   ]
  },
  {
   "cell_type": "code",
   "execution_count": null,
   "id": "e66043a7-0fb3-43db-9ac2-46768cac5a52",
   "metadata": {},
   "outputs": [],
   "source": [
    "macam_hs"
   ]
  },
  {
   "cell_type": "code",
   "execution_count": null,
   "id": "f79698fc-020a-4ce9-89fb-871c3cbc3735",
   "metadata": {
    "scrolled": true
   },
   "outputs": [],
   "source": [
    "plt.figure(figsize=(4,4))\n",
    "sns.countplot(data=macam_hs)\n",
    "plt.title('Category Hate Speech')"
   ]
  }
 ],
 "metadata": {
  "kernelspec": {
   "display_name": "Python 3 (ipykernel)",
   "language": "python",
   "name": "python3"
  },
  "language_info": {
   "codemirror_mode": {
    "name": "ipython",
    "version": 3
   },
   "file_extension": ".py",
   "mimetype": "text/x-python",
   "name": "python",
   "nbconvert_exporter": "python",
   "pygments_lexer": "ipython3",
   "version": "3.11.4"
  }
 },
 "nbformat": 4,
 "nbformat_minor": 5
}
